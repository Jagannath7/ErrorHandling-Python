{
 "cells": [
  {
   "cell_type": "markdown",
   "metadata": {},
   "source": [
    "- else -> executes when try block does not throw any exception\n",
    "- finally -> always executes"
   ]
  },
  {
   "cell_type": "code",
   "execution_count": 2,
   "metadata": {},
   "outputs": [
    {
     "name": "stdout",
     "output_type": "stream",
     "text": [
      "Trying something\n",
      "Hurrah...!!! NO ERROR!\n",
      "Done trying\n"
     ]
    }
   ],
   "source": [
    "try:\n",
    "    print(\"Trying something\")\n",
    "except:\n",
    "    print(\"Oh no! ERROR...!!!\")\n",
    "else: # executed becuase try didn't threw any execption\n",
    "    print(\"Hurrah...!!! NO ERROR!\")\n",
    "finally: # always executes \n",
    "    print(\"Done trying\")"
   ]
  },
  {
   "cell_type": "code",
   "execution_count": 3,
   "metadata": {},
   "outputs": [
    {
     "name": "stdout",
     "output_type": "stream",
     "text": [
      "Trying something\n",
      "Oh no! ERROR...!!!\n",
      "Done trying\n"
     ]
    }
   ],
   "source": [
    "try:\n",
    "    print(\"Trying something\")\n",
    "    print(10/0)\n",
    "except: # executed becuase try threw an execption\n",
    "    print(\"Oh no! ERROR...!!!\")\n",
    "else:\n",
    "    print(\"Hurrah...!!! NO ERROR!\")\n",
    "finally: # always executes \n",
    "    print(\"Done trying\")"
   ]
  },
  {
   "cell_type": "code",
   "execution_count": 9,
   "metadata": {},
   "outputs": [],
   "source": [
    "class Test:\n",
    "    def __init__(self, n):\n",
    "        self.n = n\n",
    "    \n",
    "    def __str__(self):\n",
    "        return str(self.n)\n",
    "    \n",
    "    # next two functions have to be overridden in order for this class to be used with \"with\" statement.\n",
    "    def __enter__(self): # with start execution from here\n",
    "        return self\n",
    "    \n",
    "    def __exit__(self, *args):\n",
    "        print(args)\n",
    "        return True"
   ]
  },
  {
   "cell_type": "code",
   "execution_count": 10,
   "metadata": {},
   "outputs": [
    {
     "name": "stdout",
     "output_type": "stream",
     "text": [
      "7\n",
      "(<class 'ZeroDivisionError'>, ZeroDivisionError('division by zero',), <traceback object at 0x000001C0ACE1B248>)\n",
      "Test over\n"
     ]
    }
   ],
   "source": [
    "with Test(7) as test:\n",
    "    print(test)\n",
    "    raise 10/0 # args are the exceptions that are raised\n",
    "print(\"Test over\")"
   ]
  },
  {
   "cell_type": "code",
   "execution_count": null,
   "metadata": {},
   "outputs": [],
   "source": []
  }
 ],
 "metadata": {
  "kernelspec": {
   "display_name": "Python 3",
   "language": "python",
   "name": "python3"
  },
  "language_info": {
   "codemirror_mode": {
    "name": "ipython",
    "version": 3
   },
   "file_extension": ".py",
   "mimetype": "text/x-python",
   "name": "python",
   "nbconvert_exporter": "python",
   "pygments_lexer": "ipython3",
   "version": "3.6.6"
  }
 },
 "nbformat": 4,
 "nbformat_minor": 2
}
